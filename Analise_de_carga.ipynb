{
  "nbformat": 4,
  "nbformat_minor": 0,
  "metadata": {
    "colab": {
      "name": "Analise de carga ",
      "provenance": [],
      "authorship_tag": "ABX9TyM6mFJSzgecz7GbrmUh66bd",
      "include_colab_link": true
    },
    "kernelspec": {
      "name": "python3",
      "display_name": "Python 3"
    }
  },
  "cells": [
    {
      "cell_type": "markdown",
      "metadata": {
        "id": "view-in-github",
        "colab_type": "text"
      },
      "source": [
        "<a href=\"https://colab.research.google.com/github/Pedro98nt/Otimiza-o-de-Carga/blob/master/Analise_de_carga.ipynb\" target=\"_parent\"><img src=\"https://colab.research.google.com/assets/colab-badge.svg\" alt=\"Open In Colab\"/></a>"
      ]
    },
    {
      "cell_type": "markdown",
      "metadata": {
        "id": "oj3VC6uN3jZE",
        "colab_type": "text"
      },
      "source": [
        "Importação de pacotes "
      ]
    },
    {
      "cell_type": "code",
      "metadata": {
        "id": "MdfHrDPw3UKz",
        "colab_type": "code",
        "colab": {}
      },
      "source": [
        "import random\n",
        "import numpy\n",
        "from deap import base\n",
        "from deap import creator\n",
        "from deap import algorithms\n",
        "from deap import tools\n",
        "import matplotlib.pyplot as plt"
      ],
      "execution_count": null,
      "outputs": []
    },
    {
      "cell_type": "markdown",
      "metadata": {
        "id": "OvrWPt5h3qHl",
        "colab_type": "text"
      },
      "source": [
        "Criaçao de classe produto"
      ]
    },
    {
      "cell_type": "code",
      "metadata": {
        "id": "7oPGM6x03pdi",
        "colab_type": "code",
        "colab": {}
      },
      "source": [
        "class Produto():\n",
        "    def __init__(self, nome, espaco, valor):\n",
        "        self.nome = nome\n",
        "        self.espaco = espaco\n",
        "        self.valor = valor"
      ],
      "execution_count": null,
      "outputs": []
    },
    {
      "cell_type": "markdown",
      "metadata": {
        "id": "xh8PRfRm3z_D",
        "colab_type": "text"
      },
      "source": [
        "Lista de Produtos"
      ]
    },
    {
      "cell_type": "code",
      "metadata": {
        "id": "2ULOc_3r30f6",
        "colab_type": "code",
        "colab": {}
      },
      "source": [
        "lista_produtos = []\n",
        "lista_produtos.append(Produto(\"Geladeira Dako\", 0.751, 999.90))\n",
        "lista_produtos.append(Produto(\"Iphone 6\", 0.0000899, 2911.12))\n",
        "lista_produtos.append(Produto(\"TV 55' \", 0.400, 4346.99))\n",
        "lista_produtos.append(Produto(\"TV 50' \", 0.290, 3999.90))\n",
        "lista_produtos.append(Produto(\"TV 42' \", 0.200, 2999.00))\n",
        "lista_produtos.append(Produto(\"Notebook Dell\", 0.00350, 2499.90))\n",
        "lista_produtos.append(Produto(\"Ventilador Panasonic\", 0.496, 199.90))\n",
        "lista_produtos.append(Produto(\"Microondas Electrolux\", 0.0424, 308.66))\n",
        "lista_produtos.append(Produto(\"Microondas LG\", 0.0544, 429.90))\n",
        "lista_produtos.append(Produto(\"Microondas Panasonic\", 0.0319, 299.29))\n",
        "lista_produtos.append(Produto(\"Geladeira Brastemp\", 0.635, 849.00))\n",
        "lista_produtos.append(Produto(\"Geladeira Consul\", 0.870, 1199.89))\n",
        "lista_produtos.append(Produto(\"Notebook Lenovo\", 0.498, 1999.90))\n",
        "lista_produtos.append(Produto(\"Notebook Asus\", 0.527, 3999.00))"
      ],
      "execution_count": null,
      "outputs": []
    },
    {
      "cell_type": "code",
      "metadata": {
        "id": "wbrERgrm4FKU",
        "colab_type": "code",
        "colab": {}
      },
      "source": [
        "espacos = []\n",
        "valores = []\n",
        "nomes = []\n",
        "for produto in lista_produtos:\n",
        "    espacos.append(produto.espaco)\n",
        "    valores.append(produto.valor)\n",
        "    nomes.append(produto.nome)\n",
        "limite = 3\n"
      ],
      "execution_count": null,
      "outputs": []
    },
    {
      "cell_type": "code",
      "metadata": {
        "id": "YBcPv6ed36QN",
        "colab_type": "code",
        "colab": {}
      },
      "source": [
        "toolbox = base.Toolbox()\n",
        "creator.create(\"FitnessMax\", base.Fitness, weights=(1.0, ))\n",
        "creator.create(\"Individual\", list, fitness=creator.FitnessMax)\n",
        "toolbox.register(\"attr_bool\", random.randint, 0, 1)\n",
        "toolbox.register(\"individual\", tools.initRepeat, creator.Individual,\n",
        "                 toolbox.attr_bool, n=len(espacos))\n",
        "toolbox.register(\"population\", tools.initRepeat, list, toolbox.individual)"
      ],
      "execution_count": null,
      "outputs": []
    },
    {
      "cell_type": "code",
      "metadata": {
        "id": "X6vZAbK-4IGx",
        "colab_type": "code",
        "colab": {}
      },
      "source": [
        "def avaliacao(individual):\n",
        "    nota = 0\n",
        "    soma_espacos = 0\n",
        "    for i in range(len(individual)):\n",
        "       if individual[i] == 1:\n",
        "           nota += valores[i]\n",
        "           soma_espacos += espacos[i]\n",
        "    if soma_espacos > limite:\n",
        "        nota = 1\n",
        "    return nota / 100000,"
      ],
      "execution_count": null,
      "outputs": []
    },
    {
      "cell_type": "code",
      "metadata": {
        "id": "C6hoWYLv4Le9",
        "colab_type": "code",
        "colab": {}
      },
      "source": [
        "toolbox.register(\"evaluate\", avaliacao)\n",
        "toolbox.register(\"mate\", tools.cxOnePoint)\n",
        "toolbox.register(\"mutate\", tools.mutFlipBit, indpb = 0.01)\n",
        "toolbox.register(\"select\", tools.selRoulette)"
      ],
      "execution_count": null,
      "outputs": []
    },
    {
      "cell_type": "code",
      "metadata": {
        "id": "ym7gY31t4Ns-",
        "colab_type": "code",
        "colab": {}
      },
      "source": [
        "if __name__ == \"__main__\":\n",
        "    #random.seed(1)\n",
        "    populacao = toolbox.population(n = 20)\n",
        "    probabilidade_crossover = 1.0\n",
        "    probabilidade_mutacao = 0.01\n",
        "    numero_geracoes = 100"
      ],
      "execution_count": null,
      "outputs": []
    },
    {
      "cell_type": "code",
      "metadata": {
        "id": "135Gb0QL4QX1",
        "colab_type": "code",
        "colab": {}
      },
      "source": [
        " estatisticas = tools.Statistics(key=lambda individuo: individuo.fitness.values)\n",
        "    estatisticas.register(\"max\", numpy.max)\n",
        "    estatisticas.register(\"min\", numpy.min)\n",
        "    estatisticas.register(\"med\", numpy.mean)\n",
        "    estatisticas.register(\"std\", numpy.std)"
      ],
      "execution_count": null,
      "outputs": []
    },
    {
      "cell_type": "code",
      "metadata": {
        "id": "_4P85AYQ4SmJ",
        "colab_type": "code",
        "colab": {}
      },
      "source": [
        "populacao, info = algorithms.eaSimple(populacao, toolbox,\n",
        "                                          probabilidade_crossover,\n",
        "                                          probabilidade_mutacao,\n",
        "                                          numero_geracoes, estatisticas)\n",
        "    melhores = tools.selBest(populacao, 1)\n",
        "    for individuo in melhores:\n",
        "        print(individuo)\n",
        "        print(individuo.fitness)\n",
        "        #print(individuo[1])\n",
        "        soma = 0\n",
        "        for i in range(len(lista_produtos)):\n",
        "            if individuo[i] == 1:\n",
        "                soma += valores[i]\n",
        "                print(\"Nome: %s R$ %s \" % (lista_produtos[i].nome,\n",
        "                                           lista_produtos[i].valor))\n",
        "        print(\"Melhor solução: %s\" % soma)"
      ],
      "execution_count": null,
      "outputs": []
    },
    {
      "cell_type": "code",
      "metadata": {
        "id": "DU7RlUaJ4WdW",
        "colab_type": "code",
        "colab": {}
      },
      "source": [
        "valores_grafico = info.select(\"max\")\n",
        "    plt.plot(valores_grafico)\n",
        "    plt.title(\"Acompanhamento dos valores\")\n",
        "    plt.show()"
      ],
      "execution_count": null,
      "outputs": []
    }
  ]
}